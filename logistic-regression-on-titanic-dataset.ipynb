{
 "cells": [
  {
   "cell_type": "code",
   "execution_count": 1,
   "id": "pursuant-resort",
   "metadata": {
    "_cell_guid": "b1076dfc-b9ad-4769-8c92-a6c4dae69d19",
    "_uuid": "8f2839f25d086af736a60e9eeb907d3b93b6e0e5",
    "execution": {
     "iopub.execute_input": "2021-05-26T18:20:53.800875Z",
     "iopub.status.busy": "2021-05-26T18:20:53.800192Z",
     "iopub.status.idle": "2021-05-26T18:20:53.805783Z",
     "shell.execute_reply": "2021-05-26T18:20:53.804932Z",
     "shell.execute_reply.started": "2021-05-26T18:09:58.872956Z"
    },
    "papermill": {
     "duration": 0.029498,
     "end_time": "2021-05-26T18:20:53.805966",
     "exception": false,
     "start_time": "2021-05-26T18:20:53.776468",
     "status": "completed"
    },
    "tags": []
   },
   "outputs": [
    {
     "name": "stdout",
     "output_type": "stream",
     "text": [
      "/kaggle/input/titanic/train.csv\n",
      "/kaggle/input/titanic/test.csv\n",
      "/kaggle/input/titanic/gender_submission.csv\n"
     ]
    }
   ],
   "source": [
    "# This Python 3 environment comes with many helpful analytics libraries installed\n",
    "# It is defined by the kaggle/python Docker image: https://github.com/kaggle/docker-python\n",
    "# For example, here's several helpful packages to load\n",
    "\n",
    "import numpy as np # linear algebra\n",
    "import pandas as pd # data processing, CSV file I/O (e.g. pd.read_csv)\n",
    "\n",
    "# Input data files are available in the read-only \"../input/\" directory\n",
    "# For example, running this (by clicking run or pressing Shift+Enter) will list all files under the input directory\n",
    "\n",
    "import os\n",
    "for dirname, _, filenames in os.walk('/kaggle/input'):\n",
    "    for filename in filenames:\n",
    "        print(os.path.join(dirname, filename))\n",
    "\n",
    "# You can write up to 20GB to the current directory (/kaggle/working/) that gets preserved as output when you create a version using \"Save & Run All\" \n",
    "# You can also write temporary files to /kaggle/temp/, but they won't be saved outside of the current session"
   ]
  },
  {
   "cell_type": "markdown",
   "id": "narrow-europe",
   "metadata": {
    "papermill": {
     "duration": 0.014065,
     "end_time": "2021-05-26T18:20:53.835390",
     "exception": false,
     "start_time": "2021-05-26T18:20:53.821325",
     "status": "completed"
    },
    "tags": []
   },
   "source": [
    "# Get the dataset "
   ]
  },
  {
   "cell_type": "code",
   "execution_count": 2,
   "id": "nervous-pastor",
   "metadata": {
    "execution": {
     "iopub.execute_input": "2021-05-26T18:20:53.869724Z",
     "iopub.status.busy": "2021-05-26T18:20:53.868972Z",
     "iopub.status.idle": "2021-05-26T18:20:53.896521Z",
     "shell.execute_reply": "2021-05-26T18:20:53.895737Z",
     "shell.execute_reply.started": "2021-05-26T18:10:20.880541Z"
    },
    "papermill": {
     "duration": 0.046936,
     "end_time": "2021-05-26T18:20:53.896698",
     "exception": false,
     "start_time": "2021-05-26T18:20:53.849762",
     "status": "completed"
    },
    "tags": []
   },
   "outputs": [],
   "source": [
    "data = pd.read_csv(\"../input/titanic/train.csv\")\n",
    "test = pd.read_csv(\"../input/titanic/test.csv\")"
   ]
  },
  {
   "cell_type": "markdown",
   "id": "painful-letters",
   "metadata": {
    "papermill": {
     "duration": 0.014254,
     "end_time": "2021-05-26T18:20:53.925484",
     "exception": false,
     "start_time": "2021-05-26T18:20:53.911230",
     "status": "completed"
    },
    "tags": []
   },
   "source": [
    "# Select PassengerId in test_ids for submission"
   ]
  },
  {
   "cell_type": "code",
   "execution_count": 3,
   "id": "useful-there",
   "metadata": {
    "execution": {
     "iopub.execute_input": "2021-05-26T18:20:53.970688Z",
     "iopub.status.busy": "2021-05-26T18:20:53.969940Z",
     "iopub.status.idle": "2021-05-26T18:20:53.973153Z",
     "shell.execute_reply": "2021-05-26T18:20:53.972631Z",
     "shell.execute_reply.started": "2021-05-26T18:10:50.531923Z"
    },
    "papermill": {
     "duration": 0.033364,
     "end_time": "2021-05-26T18:20:53.973332",
     "exception": false,
     "start_time": "2021-05-26T18:20:53.939968",
     "status": "completed"
    },
    "tags": []
   },
   "outputs": [],
   "source": [
    "test_ids = test[\"PassengerId\"]"
   ]
  },
  {
   "cell_type": "code",
   "execution_count": 4,
   "id": "enabling-ownership",
   "metadata": {
    "execution": {
     "iopub.execute_input": "2021-05-26T18:20:54.006380Z",
     "iopub.status.busy": "2021-05-26T18:20:54.005628Z",
     "iopub.status.idle": "2021-05-26T18:20:54.032409Z",
     "shell.execute_reply": "2021-05-26T18:20:54.032897Z",
     "shell.execute_reply.started": "2021-05-26T18:11:03.678723Z"
    },
    "papermill": {
     "duration": 0.045464,
     "end_time": "2021-05-26T18:20:54.033109",
     "exception": false,
     "start_time": "2021-05-26T18:20:53.987645",
     "status": "completed"
    },
    "tags": []
   },
   "outputs": [
    {
     "data": {
      "text/html": [
       "<div>\n",
       "<style scoped>\n",
       "    .dataframe tbody tr th:only-of-type {\n",
       "        vertical-align: middle;\n",
       "    }\n",
       "\n",
       "    .dataframe tbody tr th {\n",
       "        vertical-align: top;\n",
       "    }\n",
       "\n",
       "    .dataframe thead th {\n",
       "        text-align: right;\n",
       "    }\n",
       "</style>\n",
       "<table border=\"1\" class=\"dataframe\">\n",
       "  <thead>\n",
       "    <tr style=\"text-align: right;\">\n",
       "      <th></th>\n",
       "      <th>PassengerId</th>\n",
       "      <th>Survived</th>\n",
       "      <th>Pclass</th>\n",
       "      <th>Name</th>\n",
       "      <th>Sex</th>\n",
       "      <th>Age</th>\n",
       "      <th>SibSp</th>\n",
       "      <th>Parch</th>\n",
       "      <th>Ticket</th>\n",
       "      <th>Fare</th>\n",
       "      <th>Cabin</th>\n",
       "      <th>Embarked</th>\n",
       "    </tr>\n",
       "  </thead>\n",
       "  <tbody>\n",
       "    <tr>\n",
       "      <th>0</th>\n",
       "      <td>1</td>\n",
       "      <td>0</td>\n",
       "      <td>3</td>\n",
       "      <td>Braund, Mr. Owen Harris</td>\n",
       "      <td>male</td>\n",
       "      <td>22.0</td>\n",
       "      <td>1</td>\n",
       "      <td>0</td>\n",
       "      <td>A/5 21171</td>\n",
       "      <td>7.2500</td>\n",
       "      <td>NaN</td>\n",
       "      <td>S</td>\n",
       "    </tr>\n",
       "    <tr>\n",
       "      <th>1</th>\n",
       "      <td>2</td>\n",
       "      <td>1</td>\n",
       "      <td>1</td>\n",
       "      <td>Cumings, Mrs. John Bradley (Florence Briggs Th...</td>\n",
       "      <td>female</td>\n",
       "      <td>38.0</td>\n",
       "      <td>1</td>\n",
       "      <td>0</td>\n",
       "      <td>PC 17599</td>\n",
       "      <td>71.2833</td>\n",
       "      <td>C85</td>\n",
       "      <td>C</td>\n",
       "    </tr>\n",
       "    <tr>\n",
       "      <th>2</th>\n",
       "      <td>3</td>\n",
       "      <td>1</td>\n",
       "      <td>3</td>\n",
       "      <td>Heikkinen, Miss. Laina</td>\n",
       "      <td>female</td>\n",
       "      <td>26.0</td>\n",
       "      <td>0</td>\n",
       "      <td>0</td>\n",
       "      <td>STON/O2. 3101282</td>\n",
       "      <td>7.9250</td>\n",
       "      <td>NaN</td>\n",
       "      <td>S</td>\n",
       "    </tr>\n",
       "    <tr>\n",
       "      <th>3</th>\n",
       "      <td>4</td>\n",
       "      <td>1</td>\n",
       "      <td>1</td>\n",
       "      <td>Futrelle, Mrs. Jacques Heath (Lily May Peel)</td>\n",
       "      <td>female</td>\n",
       "      <td>35.0</td>\n",
       "      <td>1</td>\n",
       "      <td>0</td>\n",
       "      <td>113803</td>\n",
       "      <td>53.1000</td>\n",
       "      <td>C123</td>\n",
       "      <td>S</td>\n",
       "    </tr>\n",
       "    <tr>\n",
       "      <th>4</th>\n",
       "      <td>5</td>\n",
       "      <td>0</td>\n",
       "      <td>3</td>\n",
       "      <td>Allen, Mr. William Henry</td>\n",
       "      <td>male</td>\n",
       "      <td>35.0</td>\n",
       "      <td>0</td>\n",
       "      <td>0</td>\n",
       "      <td>373450</td>\n",
       "      <td>8.0500</td>\n",
       "      <td>NaN</td>\n",
       "      <td>S</td>\n",
       "    </tr>\n",
       "  </tbody>\n",
       "</table>\n",
       "</div>"
      ],
      "text/plain": [
       "   PassengerId  Survived  Pclass  \\\n",
       "0            1         0       3   \n",
       "1            2         1       1   \n",
       "2            3         1       3   \n",
       "3            4         1       1   \n",
       "4            5         0       3   \n",
       "\n",
       "                                                Name     Sex   Age  SibSp  \\\n",
       "0                            Braund, Mr. Owen Harris    male  22.0      1   \n",
       "1  Cumings, Mrs. John Bradley (Florence Briggs Th...  female  38.0      1   \n",
       "2                             Heikkinen, Miss. Laina  female  26.0      0   \n",
       "3       Futrelle, Mrs. Jacques Heath (Lily May Peel)  female  35.0      1   \n",
       "4                           Allen, Mr. William Henry    male  35.0      0   \n",
       "\n",
       "   Parch            Ticket     Fare Cabin Embarked  \n",
       "0      0         A/5 21171   7.2500   NaN        S  \n",
       "1      0          PC 17599  71.2833   C85        C  \n",
       "2      0  STON/O2. 3101282   7.9250   NaN        S  \n",
       "3      0            113803  53.1000  C123        S  \n",
       "4      0            373450   8.0500   NaN        S  "
      ]
     },
     "execution_count": 4,
     "metadata": {},
     "output_type": "execute_result"
    }
   ],
   "source": [
    "data.head()"
   ]
  },
  {
   "cell_type": "markdown",
   "id": "foreign-scoop",
   "metadata": {
    "papermill": {
     "duration": 0.015157,
     "end_time": "2021-05-26T18:20:54.066655",
     "exception": false,
     "start_time": "2021-05-26T18:20:54.051498",
     "status": "completed"
    },
    "tags": []
   },
   "source": [
    "# Removing un-necessary columns from the data. Also replacing missing values in dataset with median. "
   ]
  },
  {
   "cell_type": "code",
   "execution_count": 5,
   "id": "elementary-embassy",
   "metadata": {
    "execution": {
     "iopub.execute_input": "2021-05-26T18:20:54.100947Z",
     "iopub.status.busy": "2021-05-26T18:20:54.100148Z",
     "iopub.status.idle": "2021-05-26T18:20:54.111805Z",
     "shell.execute_reply": "2021-05-26T18:20:54.112362Z",
     "shell.execute_reply.started": "2021-05-26T18:14:58.341557Z"
    },
    "papermill": {
     "duration": 0.030482,
     "end_time": "2021-05-26T18:20:54.112569",
     "exception": false,
     "start_time": "2021-05-26T18:20:54.082087",
     "status": "completed"
    },
    "tags": []
   },
   "outputs": [],
   "source": [
    "def clean(data):\n",
    "    data = data.drop([\"Ticket\", \"PassengerId\", \"Name\", \"Cabin\"], axis=1)\n",
    "    \n",
    "    cols = [\"SibSp\", \"Parch\", \"Fare\", \"Age\"]\n",
    "    for col in cols:\n",
    "        data[col].fillna(data[col].median(), inplace=True)\n",
    "        \n",
    "    data.Embarked.fillna(\"U\", inplace=True)\n",
    "    return data\n",
    "\n",
    "data = clean(data)\n",
    "test = clean(test)"
   ]
  },
  {
   "cell_type": "code",
   "execution_count": 6,
   "id": "vertical-disorder",
   "metadata": {
    "execution": {
     "iopub.execute_input": "2021-05-26T18:20:54.147323Z",
     "iopub.status.busy": "2021-05-26T18:20:54.146650Z",
     "iopub.status.idle": "2021-05-26T18:20:54.159623Z",
     "shell.execute_reply": "2021-05-26T18:20:54.160095Z",
     "shell.execute_reply.started": "2021-05-26T18:15:19.681635Z"
    },
    "papermill": {
     "duration": 0.03149,
     "end_time": "2021-05-26T18:20:54.160311",
     "exception": false,
     "start_time": "2021-05-26T18:20:54.128821",
     "status": "completed"
    },
    "tags": []
   },
   "outputs": [
    {
     "data": {
      "text/html": [
       "<div>\n",
       "<style scoped>\n",
       "    .dataframe tbody tr th:only-of-type {\n",
       "        vertical-align: middle;\n",
       "    }\n",
       "\n",
       "    .dataframe tbody tr th {\n",
       "        vertical-align: top;\n",
       "    }\n",
       "\n",
       "    .dataframe thead th {\n",
       "        text-align: right;\n",
       "    }\n",
       "</style>\n",
       "<table border=\"1\" class=\"dataframe\">\n",
       "  <thead>\n",
       "    <tr style=\"text-align: right;\">\n",
       "      <th></th>\n",
       "      <th>Survived</th>\n",
       "      <th>Pclass</th>\n",
       "      <th>Sex</th>\n",
       "      <th>Age</th>\n",
       "      <th>SibSp</th>\n",
       "      <th>Parch</th>\n",
       "      <th>Fare</th>\n",
       "      <th>Embarked</th>\n",
       "    </tr>\n",
       "  </thead>\n",
       "  <tbody>\n",
       "    <tr>\n",
       "      <th>0</th>\n",
       "      <td>0</td>\n",
       "      <td>3</td>\n",
       "      <td>male</td>\n",
       "      <td>22.0</td>\n",
       "      <td>1</td>\n",
       "      <td>0</td>\n",
       "      <td>7.2500</td>\n",
       "      <td>S</td>\n",
       "    </tr>\n",
       "    <tr>\n",
       "      <th>1</th>\n",
       "      <td>1</td>\n",
       "      <td>1</td>\n",
       "      <td>female</td>\n",
       "      <td>38.0</td>\n",
       "      <td>1</td>\n",
       "      <td>0</td>\n",
       "      <td>71.2833</td>\n",
       "      <td>C</td>\n",
       "    </tr>\n",
       "    <tr>\n",
       "      <th>2</th>\n",
       "      <td>1</td>\n",
       "      <td>3</td>\n",
       "      <td>female</td>\n",
       "      <td>26.0</td>\n",
       "      <td>0</td>\n",
       "      <td>0</td>\n",
       "      <td>7.9250</td>\n",
       "      <td>S</td>\n",
       "    </tr>\n",
       "    <tr>\n",
       "      <th>3</th>\n",
       "      <td>1</td>\n",
       "      <td>1</td>\n",
       "      <td>female</td>\n",
       "      <td>35.0</td>\n",
       "      <td>1</td>\n",
       "      <td>0</td>\n",
       "      <td>53.1000</td>\n",
       "      <td>S</td>\n",
       "    </tr>\n",
       "    <tr>\n",
       "      <th>4</th>\n",
       "      <td>0</td>\n",
       "      <td>3</td>\n",
       "      <td>male</td>\n",
       "      <td>35.0</td>\n",
       "      <td>0</td>\n",
       "      <td>0</td>\n",
       "      <td>8.0500</td>\n",
       "      <td>S</td>\n",
       "    </tr>\n",
       "  </tbody>\n",
       "</table>\n",
       "</div>"
      ],
      "text/plain": [
       "   Survived  Pclass     Sex   Age  SibSp  Parch     Fare Embarked\n",
       "0         0       3    male  22.0      1      0   7.2500        S\n",
       "1         1       1  female  38.0      1      0  71.2833        C\n",
       "2         1       3  female  26.0      0      0   7.9250        S\n",
       "3         1       1  female  35.0      1      0  53.1000        S\n",
       "4         0       3    male  35.0      0      0   8.0500        S"
      ]
     },
     "execution_count": 6,
     "metadata": {},
     "output_type": "execute_result"
    }
   ],
   "source": [
    "data.head()"
   ]
  },
  {
   "cell_type": "markdown",
   "id": "nutritional-logic",
   "metadata": {
    "papermill": {
     "duration": 0.015403,
     "end_time": "2021-05-26T18:20:54.192343",
     "exception": false,
     "start_time": "2021-05-26T18:20:54.176940",
     "status": "completed"
    },
    "tags": []
   },
   "source": [
    "# Changing the columns of Sex and Embarked from string to int for better model building"
   ]
  },
  {
   "cell_type": "code",
   "execution_count": 7,
   "id": "natural-founder",
   "metadata": {
    "execution": {
     "iopub.execute_input": "2021-05-26T18:20:54.231230Z",
     "iopub.status.busy": "2021-05-26T18:20:54.230456Z",
     "iopub.status.idle": "2021-05-26T18:20:55.388593Z",
     "shell.execute_reply": "2021-05-26T18:20:55.387996Z",
     "shell.execute_reply.started": "2021-05-26T18:15:24.854612Z"
    },
    "papermill": {
     "duration": 1.179836,
     "end_time": "2021-05-26T18:20:55.388755",
     "exception": false,
     "start_time": "2021-05-26T18:20:54.208919",
     "status": "completed"
    },
    "tags": []
   },
   "outputs": [
    {
     "name": "stdout",
     "output_type": "stream",
     "text": [
      "['female' 'male']\n",
      "['C' 'Q' 'S' 'U']\n"
     ]
    },
    {
     "data": {
      "text/html": [
       "<div>\n",
       "<style scoped>\n",
       "    .dataframe tbody tr th:only-of-type {\n",
       "        vertical-align: middle;\n",
       "    }\n",
       "\n",
       "    .dataframe tbody tr th {\n",
       "        vertical-align: top;\n",
       "    }\n",
       "\n",
       "    .dataframe thead th {\n",
       "        text-align: right;\n",
       "    }\n",
       "</style>\n",
       "<table border=\"1\" class=\"dataframe\">\n",
       "  <thead>\n",
       "    <tr style=\"text-align: right;\">\n",
       "      <th></th>\n",
       "      <th>Survived</th>\n",
       "      <th>Pclass</th>\n",
       "      <th>Sex</th>\n",
       "      <th>Age</th>\n",
       "      <th>SibSp</th>\n",
       "      <th>Parch</th>\n",
       "      <th>Fare</th>\n",
       "      <th>Embarked</th>\n",
       "    </tr>\n",
       "  </thead>\n",
       "  <tbody>\n",
       "    <tr>\n",
       "      <th>0</th>\n",
       "      <td>0</td>\n",
       "      <td>3</td>\n",
       "      <td>1</td>\n",
       "      <td>22.0</td>\n",
       "      <td>1</td>\n",
       "      <td>0</td>\n",
       "      <td>7.2500</td>\n",
       "      <td>2</td>\n",
       "    </tr>\n",
       "    <tr>\n",
       "      <th>1</th>\n",
       "      <td>1</td>\n",
       "      <td>1</td>\n",
       "      <td>0</td>\n",
       "      <td>38.0</td>\n",
       "      <td>1</td>\n",
       "      <td>0</td>\n",
       "      <td>71.2833</td>\n",
       "      <td>0</td>\n",
       "    </tr>\n",
       "    <tr>\n",
       "      <th>2</th>\n",
       "      <td>1</td>\n",
       "      <td>3</td>\n",
       "      <td>0</td>\n",
       "      <td>26.0</td>\n",
       "      <td>0</td>\n",
       "      <td>0</td>\n",
       "      <td>7.9250</td>\n",
       "      <td>2</td>\n",
       "    </tr>\n",
       "    <tr>\n",
       "      <th>3</th>\n",
       "      <td>1</td>\n",
       "      <td>1</td>\n",
       "      <td>0</td>\n",
       "      <td>35.0</td>\n",
       "      <td>1</td>\n",
       "      <td>0</td>\n",
       "      <td>53.1000</td>\n",
       "      <td>2</td>\n",
       "    </tr>\n",
       "    <tr>\n",
       "      <th>4</th>\n",
       "      <td>0</td>\n",
       "      <td>3</td>\n",
       "      <td>1</td>\n",
       "      <td>35.0</td>\n",
       "      <td>0</td>\n",
       "      <td>0</td>\n",
       "      <td>8.0500</td>\n",
       "      <td>2</td>\n",
       "    </tr>\n",
       "  </tbody>\n",
       "</table>\n",
       "</div>"
      ],
      "text/plain": [
       "   Survived  Pclass  Sex   Age  SibSp  Parch     Fare  Embarked\n",
       "0         0       3    1  22.0      1      0   7.2500         2\n",
       "1         1       1    0  38.0      1      0  71.2833         0\n",
       "2         1       3    0  26.0      0      0   7.9250         2\n",
       "3         1       1    0  35.0      1      0  53.1000         2\n",
       "4         0       3    1  35.0      0      0   8.0500         2"
      ]
     },
     "execution_count": 7,
     "metadata": {},
     "output_type": "execute_result"
    }
   ],
   "source": [
    "from sklearn import preprocessing\n",
    "le = preprocessing.LabelEncoder()\n",
    "columns = [\"Sex\", \"Embarked\"]\n",
    "\n",
    "for col in columns:\n",
    "    data[col] = le.fit_transform(data[col])\n",
    "    test[col] = le.transform(test[col])\n",
    "    print(le.classes_)\n",
    "      \n",
    "data.head()"
   ]
  },
  {
   "cell_type": "markdown",
   "id": "reflected-withdrawal",
   "metadata": {
    "papermill": {
     "duration": 0.015377,
     "end_time": "2021-05-26T18:20:55.420341",
     "exception": false,
     "start_time": "2021-05-26T18:20:55.404964",
     "status": "completed"
    },
    "tags": []
   },
   "source": [
    "# Getting sklearn Logistic Regression Model for training and testing"
   ]
  },
  {
   "cell_type": "code",
   "execution_count": 8,
   "id": "cooperative-action",
   "metadata": {
    "execution": {
     "iopub.execute_input": "2021-05-26T18:20:55.458370Z",
     "iopub.status.busy": "2021-05-26T18:20:55.457625Z",
     "iopub.status.idle": "2021-05-26T18:20:55.621123Z",
     "shell.execute_reply": "2021-05-26T18:20:55.620517Z",
     "shell.execute_reply.started": "2021-05-26T18:15:45.779558Z"
    },
    "papermill": {
     "duration": 0.185127,
     "end_time": "2021-05-26T18:20:55.621275",
     "exception": false,
     "start_time": "2021-05-26T18:20:55.436148",
     "status": "completed"
    },
    "tags": []
   },
   "outputs": [],
   "source": [
    "from sklearn.linear_model import LogisticRegression\n",
    "from sklearn.model_selection import train_test_split\n",
    "\n",
    "y = data[\"Survived\"]\n",
    "X = data.drop(\"Survived\", axis=1)\n",
    "\n",
    "X_train, X_val, y_train, y_val = train_test_split(X, y, test_size=0.2, random_state=42)"
   ]
  },
  {
   "cell_type": "code",
   "execution_count": 9,
   "id": "universal-decade",
   "metadata": {
    "execution": {
     "iopub.execute_input": "2021-05-26T18:20:55.661746Z",
     "iopub.status.busy": "2021-05-26T18:20:55.660268Z",
     "iopub.status.idle": "2021-05-26T18:20:55.703711Z",
     "shell.execute_reply": "2021-05-26T18:20:55.703101Z",
     "shell.execute_reply.started": "2021-05-26T18:15:55.703310Z"
    },
    "papermill": {
     "duration": 0.06655,
     "end_time": "2021-05-26T18:20:55.703900",
     "exception": false,
     "start_time": "2021-05-26T18:20:55.637350",
     "status": "completed"
    },
    "tags": []
   },
   "outputs": [],
   "source": [
    "clf = LogisticRegression(random_state=0, max_iter=1000).fit(X_train, y_train)"
   ]
  },
  {
   "cell_type": "code",
   "execution_count": 10,
   "id": "distributed-biology",
   "metadata": {
    "execution": {
     "iopub.execute_input": "2021-05-26T18:20:55.745727Z",
     "iopub.status.busy": "2021-05-26T18:20:55.745026Z",
     "iopub.status.idle": "2021-05-26T18:20:55.749900Z",
     "shell.execute_reply": "2021-05-26T18:20:55.749286Z",
     "shell.execute_reply.started": "2021-05-26T18:16:02.232257Z"
    },
    "papermill": {
     "duration": 0.029732,
     "end_time": "2021-05-26T18:20:55.750097",
     "exception": false,
     "start_time": "2021-05-26T18:20:55.720365",
     "status": "completed"
    },
    "tags": []
   },
   "outputs": [
    {
     "data": {
      "text/plain": [
       "0.8100558659217877"
      ]
     },
     "execution_count": 10,
     "metadata": {},
     "output_type": "execute_result"
    }
   ],
   "source": [
    "predictions = clf.predict(X_val)\n",
    "from sklearn.metrics import accuracy_score\n",
    "accuracy_score(y_val, predictions)"
   ]
  },
  {
   "cell_type": "code",
   "execution_count": 11,
   "id": "chubby-heath",
   "metadata": {
    "execution": {
     "iopub.execute_input": "2021-05-26T18:20:55.791278Z",
     "iopub.status.busy": "2021-05-26T18:20:55.790542Z",
     "iopub.status.idle": "2021-05-26T18:20:55.794337Z",
     "shell.execute_reply": "2021-05-26T18:20:55.793700Z",
     "shell.execute_reply.started": "2021-05-26T18:16:14.914388Z"
    },
    "papermill": {
     "duration": 0.028089,
     "end_time": "2021-05-26T18:20:55.794489",
     "exception": false,
     "start_time": "2021-05-26T18:20:55.766400",
     "status": "completed"
    },
    "tags": []
   },
   "outputs": [],
   "source": [
    "submission_preds = clf.predict(test)"
   ]
  },
  {
   "cell_type": "code",
   "execution_count": 12,
   "id": "grateful-application",
   "metadata": {
    "execution": {
     "iopub.execute_input": "2021-05-26T18:20:55.833896Z",
     "iopub.status.busy": "2021-05-26T18:20:55.833249Z",
     "iopub.status.idle": "2021-05-26T18:20:55.836888Z",
     "shell.execute_reply": "2021-05-26T18:20:55.836347Z",
     "shell.execute_reply.started": "2021-05-26T18:16:23.055686Z"
    },
    "papermill": {
     "duration": 0.026272,
     "end_time": "2021-05-26T18:20:55.837067",
     "exception": false,
     "start_time": "2021-05-26T18:20:55.810795",
     "status": "completed"
    },
    "tags": []
   },
   "outputs": [],
   "source": [
    "df = pd.DataFrame({\"PassengerId\": test_ids.values,\n",
    "                   \"Survived\": submission_preds,\n",
    "                  })"
   ]
  },
  {
   "cell_type": "code",
   "execution_count": 13,
   "id": "weird-cannon",
   "metadata": {
    "execution": {
     "iopub.execute_input": "2021-05-26T18:20:55.875581Z",
     "iopub.status.busy": "2021-05-26T18:20:55.874867Z",
     "iopub.status.idle": "2021-05-26T18:20:55.881899Z",
     "shell.execute_reply": "2021-05-26T18:20:55.882454Z",
     "shell.execute_reply.started": "2021-05-26T18:16:31.736872Z"
    },
    "papermill": {
     "duration": 0.028964,
     "end_time": "2021-05-26T18:20:55.882679",
     "exception": false,
     "start_time": "2021-05-26T18:20:55.853715",
     "status": "completed"
    },
    "tags": []
   },
   "outputs": [],
   "source": [
    "df.to_csv(\"submission.csv\", index=False)"
   ]
  }
 ],
 "metadata": {
  "kernelspec": {
   "display_name": "Python 3",
   "language": "python",
   "name": "python3"
  },
  "language_info": {
   "codemirror_mode": {
    "name": "ipython",
    "version": 3
   },
   "file_extension": ".py",
   "mimetype": "text/x-python",
   "name": "python",
   "nbconvert_exporter": "python",
   "pygments_lexer": "ipython3",
   "version": "3.7.9"
  },
  "papermill": {
   "default_parameters": {},
   "duration": 9.996509,
   "end_time": "2021-05-26T18:20:56.612692",
   "environment_variables": {},
   "exception": null,
   "input_path": "__notebook__.ipynb",
   "output_path": "__notebook__.ipynb",
   "parameters": {},
   "start_time": "2021-05-26T18:20:46.616183",
   "version": "2.3.2"
  }
 },
 "nbformat": 4,
 "nbformat_minor": 5
}
